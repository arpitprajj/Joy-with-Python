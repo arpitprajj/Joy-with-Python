{
 "cells": [
  {
   "cell_type": "code",
   "execution_count": 2,
   "id": "a1799d22",
   "metadata": {},
   "outputs": [],
   "source": [
    "from turtle import*"
   ]
  },
  {
   "cell_type": "code",
   "execution_count": 3,
   "id": "dce058da",
   "metadata": {},
   "outputs": [],
   "source": [
    "import turtle"
   ]
  },
  {
   "cell_type": "code",
   "execution_count": 4,
   "id": "541d6f4b",
   "metadata": {},
   "outputs": [],
   "source": [
    "ws=turtle.Screen()"
   ]
  },
  {
   "cell_type": "code",
   "execution_count": 5,
   "id": "cbf98a0d",
   "metadata": {},
   "outputs": [],
   "source": [
    "ws.bgcolor(\"red\")"
   ]
  },
  {
   "cell_type": "code",
   "execution_count": 6,
   "id": "d1f76b19",
   "metadata": {},
   "outputs": [],
   "source": [
    "sk=turtle.Turtle()"
   ]
  },
  {
   "cell_type": "code",
   "execution_count": 7,
   "id": "754074ab",
   "metadata": {},
   "outputs": [],
   "source": [
    "sk.color(\"black\")"
   ]
  },
  {
   "cell_type": "code",
   "execution_count": 8,
   "id": "7b8007e2",
   "metadata": {},
   "outputs": [],
   "source": [
    "def squarefunc(size):\n",
    "    for i in range(4):\n",
    "        sk.fd(size)\n",
    "        sk.left(90)\n",
    "        size=size+6"
   ]
  },
  {
   "cell_type": "code",
   "execution_count": 9,
   "id": "a40d6e1e",
   "metadata": {},
   "outputs": [],
   "source": [
    "squarefunc(7)\n",
    "squarefunc(27)\n",
    "squarefunc(47)\n",
    "squarefunc(67)\n",
    "squarefunc(87)\n",
    "squarefunc(107)\n",
    "squarefunc(127)\n",
    "squarefunc(147)\n",
    "squarefunc(167)\n",
    "squarefunc(187)\n",
    "squarefunc(207)\n",
    "squarefunc(227)\n",
    "squarefunc(247)\n",
    "squarefunc(267)\n",
    "squarefunc(287)\n",
    "squarefunc(307)\n",
    "squarefunc(327)\n",
    "squarefunc(347)\n",
    "squarefunc(367)\n",
    "squarefunc(387)\n",
    "squarefunc(407)\n",
    "squarefunc(427)\n",
    "squarefunc(447)"
   ]
  },
  {
   "cell_type": "code",
   "execution_count": null,
   "id": "1ff8efff",
   "metadata": {},
   "outputs": [],
   "source": []
  }
 ],
 "metadata": {
  "kernelspec": {
   "display_name": "Python 3 (ipykernel)",
   "language": "python",
   "name": "python3"
  },
  "language_info": {
   "codemirror_mode": {
    "name": "ipython",
    "version": 3
   },
   "file_extension": ".py",
   "mimetype": "text/x-python",
   "name": "python",
   "nbconvert_exporter": "python",
   "pygments_lexer": "ipython3",
   "version": "3.9.7"
  }
 },
 "nbformat": 4,
 "nbformat_minor": 5
}
